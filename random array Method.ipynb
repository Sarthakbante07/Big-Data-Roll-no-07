{
 "cells": [
  {
   "cell_type": "code",
   "execution_count": 5,
   "id": "255cb0ca",
   "metadata": {},
   "outputs": [
    {
     "name": "stdout",
     "output_type": "stream",
     "text": [
      "[8, 2, 14, 13, 36, 32, 8, 47, 30, 43, 14, 59, 28, 39, 41, 62, 46, 42, 31, 41, 15, 10, 2, 46, 11, 60, 34, 38, 30, 25, 54, 48, 32, 38, 20, 17, 29, 27, 21, 23]\n"
     ]
    }
   ],
   "source": [
    "import random\n",
    "\n",
    "# Generate a random array of size 10 with values between 1 and 62\n",
    "random_array = [random.randint(1, 62) for _ in range(100)]\n",
    "\n",
    "# Print the random array\n",
    "print(random_array)"
   ]
  },
  {
   "cell_type": "code",
   "execution_count": null,
   "id": "4cacbcaf",
   "metadata": {},
   "outputs": [],
   "source": []
  }
 ],
 "metadata": {
  "kernelspec": {
   "display_name": "Python 3 (ipykernel)",
   "language": "python",
   "name": "python3"
  },
  "language_info": {
   "codemirror_mode": {
    "name": "ipython",
    "version": 3
   },
   "file_extension": ".py",
   "mimetype": "text/x-python",
   "name": "python",
   "nbconvert_exporter": "python",
   "pygments_lexer": "ipython3",
   "version": "3.11.5"
  }
 },
 "nbformat": 4,
 "nbformat_minor": 5
}
